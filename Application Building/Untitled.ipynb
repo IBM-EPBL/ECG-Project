{
 "cells": [
  {
   "cell_type": "code",
   "execution_count": 6,
   "id": "cf27e361",
   "metadata": {},
   "outputs": [
    {
     "name": "stdout",
     "output_type": "stream",
     "text": [
      " * Serving Flask app '__main__'\n",
      " * Debug mode: off\n"
     ]
    },
    {
     "name": "stderr",
     "output_type": "stream",
     "text": [
      "WARNING: This is a development server. Do not use it in a production deployment. Use a production WSGI server instead.\n",
      " * Running on http://127.0.0.1:5000\n",
      "Press CTRL+C to quit\n"
     ]
    },
    {
     "name": "stdout",
     "output_type": "stream",
     "text": [
      " * Serving Flask app '__main__'\n",
      " * Debug mode: off\n"
     ]
    },
    {
     "name": "stderr",
     "output_type": "stream",
     "text": [
      "WARNING: This is a development server. Do not use it in a production deployment. Use a production WSGI server instead.\n",
      " * Running on http://127.0.0.1:4333\n",
      "Press CTRL+C to quit\n",
      "[2022-11-06 14:28:05,277] ERROR in app: Exception on / [GET]\n",
      "Traceback (most recent call last):\n",
      "  File \"C:\\Users\\hariharan\\anaconda3\\envs\\tf-gpu\\lib\\site-packages\\flask\\app.py\", line 2525, in wsgi_app\n",
      "    response = self.full_dispatch_request()\n",
      "  File \"C:\\Users\\hariharan\\anaconda3\\envs\\tf-gpu\\lib\\site-packages\\flask\\app.py\", line 1822, in full_dispatch_request\n",
      "    rv = self.handle_user_exception(e)\n",
      "  File \"C:\\Users\\hariharan\\anaconda3\\envs\\tf-gpu\\lib\\site-packages\\flask\\app.py\", line 1820, in full_dispatch_request\n",
      "    rv = self.dispatch_request()\n",
      "  File \"C:\\Users\\hariharan\\anaconda3\\envs\\tf-gpu\\lib\\site-packages\\flask\\app.py\", line 1796, in dispatch_request\n",
      "    return self.ensure_sync(self.view_functions[rule.endpoint])(**view_args)\n",
      "  File \"C:\\Users\\hariharan\\AppData\\Local\\Temp\\ipykernel_7744\\101680690.py\", line 11, in about\n",
      "    return render_template( \"about.html\")\n",
      "  File \"C:\\Users\\hariharan\\anaconda3\\envs\\tf-gpu\\lib\\site-packages\\flask\\templating.py\", line 146, in render_template\n",
      "    template = app.jinja_env.get_or_select_template(template_name_or_list)\n",
      "  File \"C:\\Users\\hariharan\\anaconda3\\envs\\tf-gpu\\lib\\site-packages\\jinja2\\environment.py\", line 1081, in get_or_select_template\n",
      "    return self.get_template(template_name_or_list, parent, globals)\n",
      "  File \"C:\\Users\\hariharan\\anaconda3\\envs\\tf-gpu\\lib\\site-packages\\jinja2\\environment.py\", line 1010, in get_template\n",
      "    return self._load_template(name, globals)\n",
      "  File \"C:\\Users\\hariharan\\anaconda3\\envs\\tf-gpu\\lib\\site-packages\\jinja2\\environment.py\", line 969, in _load_template\n",
      "    template = self.loader.load(self, name, self.make_globals(globals))\n",
      "  File \"C:\\Users\\hariharan\\anaconda3\\envs\\tf-gpu\\lib\\site-packages\\jinja2\\loaders.py\", line 126, in load\n",
      "    source, filename, uptodate = self.get_source(environment, name)\n",
      "  File \"C:\\Users\\hariharan\\anaconda3\\envs\\tf-gpu\\lib\\site-packages\\flask\\templating.py\", line 62, in get_source\n",
      "    return self._get_source_fast(environment, template)\n",
      "  File \"C:\\Users\\hariharan\\anaconda3\\envs\\tf-gpu\\lib\\site-packages\\flask\\templating.py\", line 98, in _get_source_fast\n",
      "    raise TemplateNotFound(template)\n",
      "jinja2.exceptions.TemplateNotFound: about.html\n",
      "127.0.0.1 - - [06/Nov/2022 14:28:05] \"GET / HTTP/1.1\" 500 -\n",
      "127.0.0.1 - - [06/Nov/2022 14:28:05] \"GET /favicon.ico HTTP/1.1\" 404 -\n"
     ]
    }
   ],
   "source": [
    "import os\n",
    "import numpy as np\n",
    "from flask import Flask, request, render_template\n",
    "from tensorflow.keras.models import load_model\n",
    "from tensorflow.keras.preprocessing import image\n",
    "app=Flask(__name__)#our flask app\n",
    "model=load_model('ECG.h5')\n",
    "\n",
    "@app.route(\"/\") #default route\n",
    "def about():\n",
    "    return render_template( \"about.html\")\n",
    "@app.route(\"/about\")\n",
    "def home():\n",
    "    return render_template(\"about.html\")\n",
    "\n",
    "@app.route(\"/info\") #default route\n",
    "def information():\n",
    "    return render_template(\"info.html\")\n",
    "\n",
    "@app.route(\"/upload\")\n",
    "def test():\n",
    "    return render_template(\"index6.html\")\n",
    "\n",
    "@app.route(\"/predict\",methods=[\"GET\",\"POST\"])\n",
    "def upload():\n",
    "    if request.method=='POST':\n",
    "        f=request.files['file']\n",
    "        basepath=os.path.dirname('__file__')\n",
    "        filepath=os.path.join(basepath,\"uploads\",f.filename)\n",
    "        f.save(filepath)\n",
    "\n",
    "        img=image.load_img(filepath,targetsize=(64,64))\n",
    "        x=image.img_to_array(img)\n",
    "        x=np.expand_dims(x,axis=0)\n",
    "\n",
    "        pred=model.predict_classes(x)\n",
    "        print(\"Prediction\",pred)\n",
    "\n",
    "        index=['Left Bundle Branch Bloack','Normal','Premature Atrial Contraction','Premature Ventricular Contraction','Right Bundle Branch Block','Ventricular Fibrillation']\n",
    "        result=str(index[pred[0]])\n",
    "        return result\n",
    "    return None\n",
    "\n",
    "if __name__==\"__main__\":\n",
    "    app.run(debug=False)\n",
    "    app.run(host='127.0.0.1', port=4333)\n"
   ]
  },
  {
   "cell_type": "code",
   "execution_count": 2,
   "id": "8802133e",
   "metadata": {},
   "outputs": [
    {
     "name": "stdout",
     "output_type": "stream",
     "text": [
      "Requirement already satisfied: flask in c:\\users\\hariharan\\anaconda3\\envs\\tf-gpu\\lib\\site-packages (2.2.2)\n",
      "Requirement already satisfied: importlib-metadata>=3.6.0 in c:\\users\\hariharan\\anaconda3\\envs\\tf-gpu\\lib\\site-packages (from flask) (4.11.3)\n",
      "Requirement already satisfied: click>=8.0 in c:\\users\\hariharan\\anaconda3\\envs\\tf-gpu\\lib\\site-packages (from flask) (8.0.4)\n",
      "Requirement already satisfied: itsdangerous>=2.0 in c:\\users\\hariharan\\anaconda3\\envs\\tf-gpu\\lib\\site-packages (from flask) (2.1.2)\n",
      "Requirement already satisfied: Jinja2>=3.0 in c:\\users\\hariharan\\anaconda3\\envs\\tf-gpu\\lib\\site-packages (from flask) (3.1.2)\n",
      "Requirement already satisfied: Werkzeug>=2.2.2 in c:\\users\\hariharan\\anaconda3\\envs\\tf-gpu\\lib\\site-packages (from flask) (2.2.2)\n",
      "Requirement already satisfied: colorama in c:\\users\\hariharan\\anaconda3\\envs\\tf-gpu\\lib\\site-packages (from click>=8.0->flask) (0.4.5)\n",
      "Requirement already satisfied: zipp>=0.5 in c:\\users\\hariharan\\anaconda3\\envs\\tf-gpu\\lib\\site-packages (from importlib-metadata>=3.6.0->flask) (3.8.0)\n",
      "Requirement already satisfied: MarkupSafe>=2.0 in c:\\users\\hariharan\\anaconda3\\envs\\tf-gpu\\lib\\site-packages (from Jinja2>=3.0->flask) (2.1.1)\n",
      "Note: you may need to restart the kernel to use updated packages.\n"
     ]
    }
   ],
   "source": [
    "pip install flask"
   ]
  }
 ],
 "metadata": {
  "kernelspec": {
   "display_name": "Python 3 (ipykernel)",
   "language": "python",
   "name": "python3"
  },
  "language_info": {
   "codemirror_mode": {
    "name": "ipython",
    "version": 3
   },
   "file_extension": ".py",
   "mimetype": "text/x-python",
   "name": "python",
   "nbconvert_exporter": "python",
   "pygments_lexer": "ipython3",
   "version": "3.9.13"
  }
 },
 "nbformat": 4,
 "nbformat_minor": 5
}
