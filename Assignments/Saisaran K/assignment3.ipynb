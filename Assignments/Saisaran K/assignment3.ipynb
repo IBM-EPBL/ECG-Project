{
 "cells": [
  {
   "cell_type": "code",
   "execution_count": 6,
   "id": "b8906268",
   "metadata": {},
   "outputs": [
    {
     "name": "stdout",
     "output_type": "stream",
     "text": [
      "The tensorboard extension is already loaded. To reload it, use:\n",
      "  %reload_ext tensorboard\n",
      "Found 4317 images belonging to 5 classes.\n"
     ]
    }
   ],
   "source": [
    "from keras.preprocessing.image import ImageDataGenerator\n",
    "from keras_preprocessing.image import img_to_array, load_img\n",
    "import tensorflow as tf\n",
    "from keras.models import Sequential\n",
    "from keras.layers import Conv2D, MaxPooling2D\n",
    "from keras.layers import Activation, Dropout, Flatten, Dense\n",
    "from tensorflow.keras.callbacks import TensorBoard\n",
    "import time\n",
    "%load_ext tensorboard\n",
    "\n",
    "datagen = ImageDataGenerator(\n",
    "        rescale=1/255.0,\n",
    "        rotation_range=40,\n",
    "        width_shift_range=0.2,\n",
    "        height_shift_range=0.2,\n",
    "        shear_range=0.2,\n",
    "        zoom_range=0.2,\n",
    "        horizontal_flip=True,\n",
    "        fill_mode='reflect')\n",
    "\n",
    "generator = datagen.flow_from_directory(\n",
    "    r\"flowers\",\n",
    "    target_size=(150,150),\n",
    "    batch_size=16,\n",
    "    class_mode='sparse'\n",
    ")"
   ]
  },
  {
   "cell_type": "code",
   "execution_count": 7,
   "id": "d6aea341",
   "metadata": {},
   "outputs": [
    {
     "name": "stdout",
     "output_type": "stream",
     "text": [
      "3-conv-64-nodes-1-dense-1668763596\n",
      "Epoch 1/25\n",
      "270/270 [==============================] - 56s 203ms/step - loss: 1.2894 - accuracy: 0.4320\n",
      "Epoch 2/25\n",
      "270/270 [==============================] - 26s 96ms/step - loss: 1.1132 - accuracy: 0.5462\n",
      "Epoch 3/25\n",
      "270/270 [==============================] - 25s 93ms/step - loss: 1.0050 - accuracy: 0.5944\n",
      "Epoch 4/25\n",
      "270/270 [==============================] - 25s 93ms/step - loss: 0.9406 - accuracy: 0.6354\n",
      "Epoch 5/25\n",
      "270/270 [==============================] - 27s 99ms/step - loss: 0.8877 - accuracy: 0.6627\n",
      "Epoch 6/25\n",
      "270/270 [==============================] - 26s 97ms/step - loss: 0.8586 - accuracy: 0.6646\n",
      "Epoch 7/25\n",
      "270/270 [==============================] - 30s 112ms/step - loss: 0.8131 - accuracy: 0.6938\n",
      "Epoch 8/25\n",
      "270/270 [==============================] - 31s 115ms/step - loss: 0.7930 - accuracy: 0.6975\n",
      "Epoch 9/25\n",
      "270/270 [==============================] - 26s 97ms/step - loss: 0.7718 - accuracy: 0.7042\n",
      "Epoch 10/25\n",
      "270/270 [==============================] - 26s 97ms/step - loss: 0.7633 - accuracy: 0.7042\n",
      "Epoch 11/25\n",
      "270/270 [==============================] - 27s 98ms/step - loss: 0.7407 - accuracy: 0.7204\n",
      "Epoch 12/25\n",
      "270/270 [==============================] - 27s 101ms/step - loss: 0.7230 - accuracy: 0.7227\n",
      "Epoch 13/25\n",
      "270/270 [==============================] - 28s 103ms/step - loss: 0.7200 - accuracy: 0.7281\n",
      "Epoch 14/25\n",
      "270/270 [==============================] - 26s 95ms/step - loss: 0.6982 - accuracy: 0.7297\n",
      "Epoch 15/25\n",
      "270/270 [==============================] - 28s 103ms/step - loss: 0.6884 - accuracy: 0.7429\n",
      "Epoch 16/25\n",
      "270/270 [==============================] - 28s 104ms/step - loss: 0.6711 - accuracy: 0.7454\n",
      "Epoch 17/25\n",
      "270/270 [==============================] - 30s 109ms/step - loss: 0.6698 - accuracy: 0.7545\n",
      "Epoch 18/25\n",
      "270/270 [==============================] - 29s 106ms/step - loss: 0.6351 - accuracy: 0.7589\n",
      "Epoch 19/25\n",
      "270/270 [==============================] - 28s 104ms/step - loss: 0.6522 - accuracy: 0.7487\n",
      "Epoch 20/25\n",
      "270/270 [==============================] - 27s 100ms/step - loss: 0.6176 - accuracy: 0.7637\n",
      "Epoch 21/25\n",
      "270/270 [==============================] - 28s 103ms/step - loss: 0.6110 - accuracy: 0.7651\n",
      "Epoch 22/25\n",
      "270/270 [==============================] - 27s 99ms/step - loss: 0.6157 - accuracy: 0.7633\n",
      "Epoch 23/25\n",
      "270/270 [==============================] - 26s 98ms/step - loss: 0.6000 - accuracy: 0.7730\n",
      "Epoch 24/25\n",
      "270/270 [==============================] - 27s 100ms/step - loss: 0.5813 - accuracy: 0.7816\n",
      "Epoch 25/25\n",
      "270/270 [==============================] - 28s 103ms/step - loss: 0.5817 - accuracy: 0.7825\n"
     ]
    }
   ],
   "source": [
    "dense_layers = [1]\n",
    "layer_sizes = [64]\n",
    "conv_layers = [3]\n",
    "SIZE = 150\n",
    "INPUT_SHAPE = (SIZE, SIZE, 3) \n",
    "\n",
    "for dense_layer in dense_layers:\n",
    "  for layer_size in layer_sizes:\n",
    "    for conv_layer in conv_layers:\n",
    "      NAME = \"{}-conv-{}-nodes-{}-dense-{}\".format(conv_layer, layer_size, dense_layer, int(time.time()))\n",
    "      tensorboard = TensorBoard(log_dir='logs/{}'.format(NAME))\n",
    "      \n",
    "      print(NAME)\n",
    "      #model initialzation\n",
    "      model = Sequential()\n",
    "\n",
    "      #model definition\n",
    "      model.add(Conv2D(layer_size, (3,3), input_shape = INPUT_SHAPE))\n",
    "      model.add(Activation('relu'))  \n",
    "      model.add(MaxPooling2D(pool_size=(2,2)))\n",
    "\n",
    "      for l in range(conv_layer-1):\n",
    "        model.add(Conv2D(layer_size, (3,3)))\n",
    "        model.add(Activation('relu')) \n",
    "        model.add(MaxPooling2D(pool_size=(2,2)))\n",
    "      \n",
    "      model.add(Flatten())\n",
    "\n",
    "      for l in range(dense_layer):\n",
    "        model.add(Dense(layer_size))\n",
    "        model.add(Activation('relu')) \n",
    "\n",
    "\n",
    "      #final output layer\n",
    "      model.add(Dense(5))\n",
    "      model.add(Activation('softmax'))\n",
    "\n",
    "      #settings\n",
    "      model.compile(loss='sparse_categorical_crossentropy',\n",
    "                    optimizer='adam',\n",
    "                    metrics=['accuracy'])\n",
    "      #fit\n",
    "      model.fit(generator, batch_size=64, epochs=25, callbacks=[tensorboard])"
   ]
  },
  {
   "cell_type": "code",
   "execution_count": 8,
   "id": "912d399a",
   "metadata": {},
   "outputs": [
    {
     "name": "stdout",
     "output_type": "stream",
     "text": [
      "Model: \"sequential_1\"\n",
      "_________________________________________________________________\n",
      "Layer (type)                 Output Shape              Param #   \n",
      "=================================================================\n",
      "conv2d_3 (Conv2D)            (None, 148, 148, 64)      1792      \n",
      "_________________________________________________________________\n",
      "activation_5 (Activation)    (None, 148, 148, 64)      0         \n",
      "_________________________________________________________________\n",
      "max_pooling2d_3 (MaxPooling2 (None, 74, 74, 64)        0         \n",
      "_________________________________________________________________\n",
      "conv2d_4 (Conv2D)            (None, 72, 72, 64)        36928     \n",
      "_________________________________________________________________\n",
      "activation_6 (Activation)    (None, 72, 72, 64)        0         \n",
      "_________________________________________________________________\n",
      "max_pooling2d_4 (MaxPooling2 (None, 36, 36, 64)        0         \n",
      "_________________________________________________________________\n",
      "conv2d_5 (Conv2D)            (None, 34, 34, 64)        36928     \n",
      "_________________________________________________________________\n",
      "activation_7 (Activation)    (None, 34, 34, 64)        0         \n",
      "_________________________________________________________________\n",
      "max_pooling2d_5 (MaxPooling2 (None, 17, 17, 64)        0         \n",
      "_________________________________________________________________\n",
      "flatten_1 (Flatten)          (None, 18496)             0         \n",
      "_________________________________________________________________\n",
      "dense_2 (Dense)              (None, 64)                1183808   \n",
      "_________________________________________________________________\n",
      "activation_8 (Activation)    (None, 64)                0         \n",
      "_________________________________________________________________\n",
      "dense_3 (Dense)              (None, 5)                 325       \n",
      "_________________________________________________________________\n",
      "activation_9 (Activation)    (None, 5)                 0         \n",
      "=================================================================\n",
      "Total params: 1,259,781\n",
      "Trainable params: 1,259,781\n",
      "Non-trainable params: 0\n",
      "_________________________________________________________________\n"
     ]
    }
   ],
   "source": [
    "model.summary()"
   ]
  },
  {
   "cell_type": "code",
   "execution_count": 9,
   "id": "ba6d8477",
   "metadata": {},
   "outputs": [],
   "source": [
    "model.save('Flowers.h5')"
   ]
  },
  {
   "cell_type": "code",
   "execution_count": 11,
   "id": "194d6a0c",
   "metadata": {},
   "outputs": [],
   "source": [
    "import cv2\n",
    "\n",
    "CATEGORIES = ['Daisy', 'Dandelion', 'Rose', 'Sunflower', 'Tulip']\n",
    "\n",
    "def prepare(filepath):\n",
    "  IMG_SIZE = 150\n",
    "  img_array = cv2.imread(filepath)\n",
    "  new_array = cv2.resize(img_array, (IMG_SIZE, IMG_SIZE))\n",
    "  return new_array.reshape(-1, IMG_SIZE, IMG_SIZE, 3)"
   ]
  },
  {
   "cell_type": "code",
   "execution_count": 13,
   "id": "dd78cfd6",
   "metadata": {},
   "outputs": [
    {
     "name": "stdout",
     "output_type": "stream",
     "text": [
      "Daisy\n"
     ]
    }
   ],
   "source": [
    "prediction = model.predict([prepare(r\"flowers/dandelion/7355522_b66e5d3078_m.jpg\")])\n",
    "print(CATEGORIES[int(prediction[0][0])])"
   ]
  },
  {
   "cell_type": "code",
   "execution_count": null,
   "id": "3adfce2f",
   "metadata": {},
   "outputs": [],
   "source": []
  }
 ],
 "metadata": {
  "kernelspec": {
   "display_name": "Python 3.9.13 ('tf-gpu')",
   "language": "python",
   "name": "python3"
  },
  "language_info": {
   "codemirror_mode": {
    "name": "ipython",
    "version": 3
   },
   "file_extension": ".py",
   "mimetype": "text/x-python",
   "name": "python",
   "nbconvert_exporter": "python",
   "pygments_lexer": "ipython3",
   "version": "3.9.13"
  },
  "vscode": {
   "interpreter": {
    "hash": "335192f6511531d724c310cc43a746e0e71be9b728e9170045e89545a8c1c847"
   }
  }
 },
 "nbformat": 4,
 "nbformat_minor": 5
}
