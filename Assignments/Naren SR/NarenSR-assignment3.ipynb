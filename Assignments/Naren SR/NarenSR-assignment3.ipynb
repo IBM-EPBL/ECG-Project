{
 "cells": [
  {
   "cell_type": "code",
   "execution_count": 1,
   "id": "d1db7b74",
   "metadata": {},
   "outputs": [],
   "source": [
    "from keras_preprocessing.image import img_to_array, load_img"
   ]
  },
  {
   "cell_type": "code",
   "execution_count": 2,
   "id": "b8906268",
   "metadata": {},
   "outputs": [
    {
     "name": "stdout",
     "output_type": "stream",
     "text": [
      "Found 4317 images belonging to 5 classes.\n"
     ]
    }
   ],
   "source": [
    "from keras.preprocessing.image import ImageDataGenerator\n",
    "\n",
    "datagen = ImageDataGenerator(\n",
    "        rescale=1/255.0,\n",
    "        rotation_range=40,\n",
    "        width_shift_range=0.2,\n",
    "        height_shift_range=0.2,\n",
    "        shear_range=0.2,\n",
    "        zoom_range=0.2,\n",
    "        horizontal_flip=True,\n",
    "        fill_mode='reflect')\n",
    "\n",
    "generator = datagen.flow_from_directory(\n",
    "    r\"D:\\Scrap works\\Naren SR\\Data assig3\\flowers\",\n",
    "    target_size=(150,150),\n",
    "    batch_size=16,\n",
    "    class_mode='sparse'\n",
    ")"
   ]
  },
  {
   "cell_type": "code",
   "execution_count": 3,
   "id": "06093797",
   "metadata": {},
   "outputs": [],
   "source": [
    "import tensorflow as tf\n",
    "from keras.models import Sequential\n",
    "from keras.layers import Conv2D, MaxPooling2D\n",
    "from keras.layers import Activation, Dropout, Flatten, Dense\n",
    "from tensorflow.keras.callbacks import TensorBoard\n",
    "import time\n",
    "%load_ext tensorboard"
   ]
  },
  {
   "cell_type": "code",
   "execution_count": 4,
   "id": "d6aea341",
   "metadata": {},
   "outputs": [
    {
     "name": "stdout",
     "output_type": "stream",
     "text": [
      "3-conv-64-nodes-1-dense-1668764951\n",
      "Epoch 1/25\n",
      "270/270 [==============================] - 71s 229ms/step - loss: 1.2635 - accuracy: 0.4496\n",
      "Epoch 2/25\n",
      "270/270 [==============================] - 25s 94ms/step - loss: 1.0079 - accuracy: 0.6004\n",
      "Epoch 3/25\n",
      "270/270 [==============================] - 24s 89ms/step - loss: 0.9659 - accuracy: 0.6145\n",
      "Epoch 4/25\n",
      "270/270 [==============================] - 24s 90ms/step - loss: 0.8993 - accuracy: 0.6505\n",
      "Epoch 5/25\n",
      "270/270 [==============================] - 24s 91ms/step - loss: 0.8545 - accuracy: 0.6676\n",
      "Epoch 6/25\n",
      "270/270 [==============================] - 25s 92ms/step - loss: 0.8328 - accuracy: 0.6780\n",
      "Epoch 7/25\n",
      "270/270 [==============================] - 25s 93ms/step - loss: 0.8129 - accuracy: 0.6854\n",
      "Epoch 8/25\n",
      "270/270 [==============================] - 25s 94ms/step - loss: 0.7847 - accuracy: 0.6984\n",
      "Epoch 9/25\n",
      "270/270 [==============================] - 26s 95ms/step - loss: 0.7606 - accuracy: 0.7079\n",
      "Epoch 10/25\n",
      "270/270 [==============================] - 26s 96ms/step - loss: 0.7373 - accuracy: 0.7176\n",
      "Epoch 11/25\n",
      "270/270 [==============================] - 27s 99ms/step - loss: 0.7265 - accuracy: 0.7206\n",
      "Epoch 12/25\n",
      "270/270 [==============================] - 27s 98ms/step - loss: 0.7053 - accuracy: 0.7318\n",
      "Epoch 13/25\n",
      "270/270 [==============================] - 28s 102ms/step - loss: 0.6914 - accuracy: 0.7278\n",
      "Epoch 14/25\n",
      "270/270 [==============================] - 26s 97ms/step - loss: 0.6664 - accuracy: 0.7385\n",
      "Epoch 15/25\n",
      "270/270 [==============================] - 26s 96ms/step - loss: 0.6573 - accuracy: 0.7501\n",
      "Epoch 16/25\n",
      "270/270 [==============================] - 26s 98ms/step - loss: 0.6589 - accuracy: 0.7480\n",
      "Epoch 17/25\n",
      "270/270 [==============================] - 26s 98ms/step - loss: 0.6345 - accuracy: 0.7568\n",
      "Epoch 18/25\n",
      "270/270 [==============================] - 27s 98ms/step - loss: 0.6277 - accuracy: 0.7630\n",
      "Epoch 19/25\n",
      "270/270 [==============================] - 26s 98ms/step - loss: 0.6172 - accuracy: 0.7656\n",
      "Epoch 20/25\n",
      "270/270 [==============================] - 27s 98ms/step - loss: 0.6042 - accuracy: 0.7725\n",
      "Epoch 21/25\n",
      "270/270 [==============================] - 27s 99ms/step - loss: 0.5930 - accuracy: 0.7735\n",
      "Epoch 22/25\n",
      "270/270 [==============================] - 27s 99ms/step - loss: 0.5806 - accuracy: 0.7765\n",
      "Epoch 23/25\n",
      "270/270 [==============================] - 27s 99ms/step - loss: 0.5731 - accuracy: 0.7834\n",
      "Epoch 24/25\n",
      "270/270 [==============================] - 27s 99ms/step - loss: 0.5776 - accuracy: 0.7857\n",
      "Epoch 25/25\n",
      "270/270 [==============================] - 29s 106ms/step - loss: 0.5421 - accuracy: 0.7915\n"
     ]
    }
   ],
   "source": [
    "dense_layers = [1]\n",
    "layer_sizes = [64]\n",
    "conv_layers = [3]\n",
    "SIZE = 150\n",
    "INPUT_SHAPE = (SIZE, SIZE, 3) \n",
    "\n",
    "for dense_layer in dense_layers:\n",
    "  for layer_size in layer_sizes:\n",
    "    for conv_layer in conv_layers:\n",
    "      NAME = \"{}-conv-{}-nodes-{}-dense-{}\".format(conv_layer, layer_size, dense_layer, int(time.time()))\n",
    "      tensorboard = TensorBoard(log_dir='logs/{}'.format(NAME))\n",
    "      \n",
    "      print(NAME)\n",
    "      #model initialzation\n",
    "      model = Sequential()\n",
    "\n",
    "      #model definition\n",
    "      model.add(Conv2D(layer_size, (3,3), input_shape = INPUT_SHAPE))\n",
    "      model.add(Activation('relu'))  \n",
    "      model.add(MaxPooling2D(pool_size=(2,2)))\n",
    "\n",
    "      for l in range(conv_layer-1):\n",
    "        model.add(Conv2D(layer_size, (3,3)))\n",
    "        model.add(Activation('relu')) \n",
    "        model.add(MaxPooling2D(pool_size=(2,2)))\n",
    "      \n",
    "      model.add(Flatten())\n",
    "\n",
    "      for l in range(dense_layer):\n",
    "        model.add(Dense(layer_size))\n",
    "        model.add(Activation('relu')) \n",
    "\n",
    "\n",
    "      #final output layer\n",
    "      model.add(Dense(5))\n",
    "      model.add(Activation('softmax'))\n",
    "\n",
    "      #settings\n",
    "      model.compile(loss='sparse_categorical_crossentropy',\n",
    "                    optimizer='adam',\n",
    "                    metrics=['accuracy'])\n",
    "      #fit\n",
    "      model.fit(generator, batch_size=64, epochs=25, callbacks=[tensorboard])"
   ]
  },
  {
   "cell_type": "code",
   "execution_count": 5,
   "id": "912d399a",
   "metadata": {},
   "outputs": [
    {
     "name": "stdout",
     "output_type": "stream",
     "text": [
      "Model: \"sequential\"\n",
      "_________________________________________________________________\n",
      "Layer (type)                 Output Shape              Param #   \n",
      "=================================================================\n",
      "conv2d (Conv2D)              (None, 148, 148, 64)      1792      \n",
      "_________________________________________________________________\n",
      "activation (Activation)      (None, 148, 148, 64)      0         \n",
      "_________________________________________________________________\n",
      "max_pooling2d (MaxPooling2D) (None, 74, 74, 64)        0         \n",
      "_________________________________________________________________\n",
      "conv2d_1 (Conv2D)            (None, 72, 72, 64)        36928     \n",
      "_________________________________________________________________\n",
      "activation_1 (Activation)    (None, 72, 72, 64)        0         \n",
      "_________________________________________________________________\n",
      "max_pooling2d_1 (MaxPooling2 (None, 36, 36, 64)        0         \n",
      "_________________________________________________________________\n",
      "conv2d_2 (Conv2D)            (None, 34, 34, 64)        36928     \n",
      "_________________________________________________________________\n",
      "activation_2 (Activation)    (None, 34, 34, 64)        0         \n",
      "_________________________________________________________________\n",
      "max_pooling2d_2 (MaxPooling2 (None, 17, 17, 64)        0         \n",
      "_________________________________________________________________\n",
      "flatten (Flatten)            (None, 18496)             0         \n",
      "_________________________________________________________________\n",
      "dense (Dense)                (None, 64)                1183808   \n",
      "_________________________________________________________________\n",
      "activation_3 (Activation)    (None, 64)                0         \n",
      "_________________________________________________________________\n",
      "dense_1 (Dense)              (None, 5)                 325       \n",
      "_________________________________________________________________\n",
      "activation_4 (Activation)    (None, 5)                 0         \n",
      "=================================================================\n",
      "Total params: 1,259,781\n",
      "Trainable params: 1,259,781\n",
      "Non-trainable params: 0\n",
      "_________________________________________________________________\n"
     ]
    }
   ],
   "source": [
    "model.summary()"
   ]
  },
  {
   "cell_type": "code",
   "execution_count": 6,
   "id": "ba6d8477",
   "metadata": {},
   "outputs": [],
   "source": [
    "model.save('Flowers.h5')"
   ]
  },
  {
   "cell_type": "code",
   "execution_count": 7,
   "id": "194d6a0c",
   "metadata": {},
   "outputs": [],
   "source": [
    "import cv2\n",
    "\n",
    "CATEGORIES = ['Daisy', 'Dandelion', 'Rose', 'Sunflower', 'Tulip']\n",
    "\n",
    "def prepare(filepath):\n",
    "  IMG_SIZE = 150\n",
    "  img_array = cv2.imread(filepath)\n",
    "  new_array = cv2.resize(img_array, (IMG_SIZE, IMG_SIZE))\n",
    "  return new_array.reshape(-1, IMG_SIZE, IMG_SIZE, 3)"
   ]
  },
  {
   "cell_type": "code",
   "execution_count": 17,
   "id": "dd78cfd6",
   "metadata": {},
   "outputs": [
    {
     "name": "stdout",
     "output_type": "stream",
     "text": [
      "Daisy\n"
     ]
    }
   ],
   "source": [
    "prediction = model.predict([prepare(r\"D:\\Scrap works\\Naren SR\\Data assig3\\flowers\\daisy\\21652746_cc379e0eea_m.jpg\")])\n",
    "print(CATEGORIES[int(prediction[0][0])])"
   ]
  },
  {
   "cell_type": "code",
   "execution_count": null,
   "id": "38d9fdd8",
   "metadata": {},
   "outputs": [],
   "source": []
  }
 ],
 "metadata": {
  "kernelspec": {
   "display_name": "Python 3 (ipykernel)",
   "language": "python",
   "name": "python3"
  },
  "language_info": {
   "codemirror_mode": {
    "name": "ipython",
    "version": 3
   },
   "file_extension": ".py",
   "mimetype": "text/x-python",
   "name": "python",
   "nbconvert_exporter": "python",
   "pygments_lexer": "ipython3",
   "version": "3.9.7"
  }
 },
 "nbformat": 4,
 "nbformat_minor": 5
}
